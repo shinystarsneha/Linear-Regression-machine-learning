{
  "nbformat": 4,
  "nbformat_minor": 0,
  "metadata": {
    "colab": {
      "name": "Done_Simple_Linear_Regression.ipynb",
      "provenance": [],
      "authorship_tag": "ABX9TyOIdQYAPZDjEPAZuNJ2gWwo",
      "include_colab_link": true
    },
    "kernelspec": {
      "name": "python3",
      "display_name": "Python 3"
    },
    "language_info": {
      "name": "python"
    }
  },
  "cells": [
    {
      "cell_type": "markdown",
      "metadata": {
        "id": "view-in-github",
        "colab_type": "text"
      },
      "source": [
        "<a href=\"https://colab.research.google.com/github/shinystarsneha/Linear-Regression-machine-learning/blob/main/Done_Simple_Linear_Regression.ipynb\" target=\"_parent\"><img src=\"https://colab.research.google.com/assets/colab-badge.svg\" alt=\"Open In Colab\"/></a>"
      ]
    },
    {
      "cell_type": "markdown",
      "source": [
        "# Simple Linear **Regression**"
      ],
      "metadata": {
        "id": "qKCLgdmA_-tQ"
      }
    },
    {
      "cell_type": "markdown",
      "source": [
        "## **Importing Libraire**\n",
        "\n"
      ],
      "metadata": {
        "id": "VzkolmXAAGjq"
      }
    },
    {
      "cell_type": "code",
      "source": [
        "import pandas as pd\n",
        "import numpy as np\n",
        "import matplotlib.pyplot as plt\n"
      ],
      "metadata": {
        "id": "XHxq4htoAJmS"
      },
      "execution_count": 1,
      "outputs": []
    },
    {
      "cell_type": "markdown",
      "source": [
        "## **Importing Dataset**"
      ],
      "metadata": {
        "id": "E-bsiJiUAGgz"
      }
    },
    {
      "cell_type": "code",
      "source": [
        "dataset=pd.read_csv(\"Salary_Data.csv\")\n",
        "X=dataset.iloc[:,:-1].values\n",
        "y=dataset.iloc[:,-1].values"
      ],
      "metadata": {
        "id": "CbnKCCwKAM32"
      },
      "execution_count": 3,
      "outputs": []
    },
    {
      "cell_type": "markdown",
      "source": [
        "## **Spiliting the adat set into training and tes set**"
      ],
      "metadata": {
        "id": "85EvxZVcAN46"
      }
    },
    {
      "cell_type": "code",
      "source": [
        "from sklearn.model_selection import train_test_split\n",
        "X_train,X_test,y_train,y_test = train_test_split(X,y,test_size=1/3,random_state=0)"
      ],
      "metadata": {
        "id": "MCeieE8wARxJ"
      },
      "execution_count": 28,
      "outputs": []
    },
    {
      "cell_type": "markdown",
      "source": [
        "## **Training the simplelinear regression on training dataset**"
      ],
      "metadata": {
        "id": "xFmD64PYAhq_"
      }
    },
    {
      "cell_type": "code",
      "source": [
        "from sklearn.linear_model import LinearRegression\n",
        "regressor=LinearRegression()\n",
        "regressor.fit(X_train,y_train)"
      ],
      "metadata": {
        "colab": {
          "base_uri": "https://localhost:8080/"
        },
        "id": "42guZ05cAd9k",
        "outputId": "b27af8f1-c659-4d88-9b99-c232bc89c244"
      },
      "execution_count": 29,
      "outputs": [
        {
          "output_type": "execute_result",
          "data": {
            "text/plain": [
              "LinearRegression()"
            ]
          },
          "metadata": {},
          "execution_count": 29
        }
      ]
    },
    {
      "cell_type": "markdown",
      "source": [
        "## **Predicting the test  Result set**"
      ],
      "metadata": {
        "id": "RFvK307YAqaz"
      }
    },
    {
      "cell_type": "code",
      "source": [
        "y_pred=regressor.predict(X_test)"
      ],
      "metadata": {
        "id": "bl5puc-OAxJ1"
      },
      "execution_count": 25,
      "outputs": []
    },
    {
      "cell_type": "markdown",
      "source": [
        "## **Visualizing the result of train set**"
      ],
      "metadata": {
        "id": "bH6SHNh6Axqx"
      }
    },
    {
      "cell_type": "code",
      "source": [
        "plt.scatter(X_train, y_train, color = 'red')\n",
        "plt.plot(X_train,regressor.predict(X_train), color='blue')\n",
        "plt.title=('Year of experince vs salary(train dataset)')\n",
        "plt.Xlabel=(\"Year ofexperince\")\n",
        "plt.ylabel=('salary')\n",
        "plt.show()\n",
        "\n"
      ],
      "metadata": {
        "colab": {
          "base_uri": "https://localhost:8080/",
          "height": 265
        },
        "id": "aStpluviA15m",
        "outputId": "2cf88e51-aa56-4bf7-efb6-129e7c7ba5f2"
      },
      "execution_count": 30,
      "outputs": [
        {
          "output_type": "display_data",
          "data": {
            "text/plain": [
              "<Figure size 432x288 with 1 Axes>"
            ],
            "image/png": "[encoded data removed]"
          },
          "metadata": {
            "needs_background": "light"
          }
        }
      ]
    },
    {
      "cell_type": "markdown",
      "source": [
        "## **Visualiing the test result set**"
      ],
      "metadata": {
        "id": "G3jBL1kTA5aV"
      }
    },
    {
      "cell_type": "code",
      "source": [
        "plt.scatter(X_test,y_test,color='red')\n",
        "plt.plot(X_train,regressor.predict(X_train),color=\"blue\")\n",
        "plt.title=('Yearof exeincevs salary(test dataset)')\n",
        "plt.xlabel=('Year of experince')\n",
        "plt.ylabel=('salary')\n",
        "plt.show()"
      ],
      "metadata": {
        "colab": {
          "base_uri": "https://localhost:8080/",
          "height": 265
        },
        "id": "BZSd9nv-QKi5",
        "outputId": "a99fa641-f5fc-4358-c111-ab78d7a4f330"
      },
      "execution_count": 31,
      "outputs": [
        {
          "output_type": "display_data",
          "data": {
            "text/plain": [
              "<Figure size 432x288 with 1 Axes>"
            ],
            "image/png": "[encoded data removed]"
          },
          "metadata": {
            "needs_background": "light"
          }
        }
      ]
    },
    {
      "cell_type": "code",
      "source": [
        "from sklearn.metrics import r2_score\n",
        "r2_score=(y_test, y_pred)\n",
        "r2_score"
      ],
      "metadata": {
        "colab": {
          "base_uri": "https://localhost:8080/"
        },
        "id": "XlX_4v6vTvy-",
        "outputId": "09074360-2c2b-4c39-f344-6d00a1b36f63"
      },
      "execution_count": 39,
      "outputs": [
        {
          "output_type": "execute_result",
          "data": {
            "text/plain": [
              "(array([ 37731, 122391,  57081,  63218, 116969, 109431, 112635,  55794,\n",
              "         83088, 101302]),\n",
              " array([ 44318.96737044, 119982.76775432,  63234.91746641,  63234.91746641,\n",
              "        119982.76775432, 110524.79270633, 119982.76775432,  63234.91746641,\n",
              "         72692.8925144 , 101066.81765835,  53776.94241843,  72692.8925144 ,\n",
              "         53776.94241843,  72692.8925144 , 101066.81765835,  91608.84261036,\n",
              "         34860.99232246, 129440.7428023 ,  53776.94241843,  44318.96737044]))"
            ]
          },
          "metadata": {},
          "execution_count": 39
        }
      ]
    }
  ]
}